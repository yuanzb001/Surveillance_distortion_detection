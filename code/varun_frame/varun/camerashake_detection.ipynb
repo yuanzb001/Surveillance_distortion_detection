{
 "cells": [
  {
   "cell_type": "markdown",
   "id": "6fd9b577",
   "metadata": {},
   "source": [
    "### camera shake detection"
   ]
  },
  {
   "cell_type": "code",
   "execution_count": null,
   "id": "91ac057a",
   "metadata": {},
   "outputs": [],
   "source": []
  },
  {
   "cell_type": "code",
   "execution_count": 1,
   "id": "815617b1",
   "metadata": {},
   "outputs": [],
   "source": [
    "import numpy as np\n",
    "import matplotlib.pyplot as plt\n",
    "import math\n",
    "import os\n",
    "\n",
    "from scipy.spatial.distance import cosine\n",
    "import cv2"
   ]
  },
  {
   "cell_type": "code",
   "execution_count": null,
   "id": "0ca44cfa",
   "metadata": {},
   "outputs": [],
   "source": []
  },
  {
   "cell_type": "code",
   "execution_count": 73,
   "id": "84c9f280",
   "metadata": {},
   "outputs": [],
   "source": [
    "\n",
    "def video2frames(video):\n",
    "    capture_obj = cv2.VideoCapture(video)\n",
    "        \n",
    "    frameNr = 0\n",
    "    frames = []\n",
    "    while (True):\n",
    "        success, frame = capture_obj.read()\n",
    "        if success:\n",
    "            frame = cv2.cvtColor(frame, cv2.COLOR_BGR2GRAY)\n",
    "            frame = cv2.resize(frame, (256, 256))\n",
    "            frames.append(frame)\n",
    "        else:\n",
    "            # print(\"ERR: Cann't find the file\")\n",
    "            break\n",
    "    capture_obj.release()\n",
    "    \n",
    "    \n",
    "    return frames\n",
    "    "
   ]
  },
  {
   "cell_type": "code",
   "execution_count": null,
   "id": "53165c3c",
   "metadata": {},
   "outputs": [],
   "source": []
  },
  {
   "cell_type": "code",
   "execution_count": 3,
   "id": "68721029",
   "metadata": {},
   "outputs": [],
   "source": [
    "def get_corner_blocks(matrix):\n",
    "    \"\"\"\n",
    "    This function takes a square matrix and returns a list of smaller square matrices\n",
    "    representing its corner blocks.\n",
    "    \"\"\"\n",
    "    size = len(matrix)\n",
    "    block_size = size // 2\n",
    "    blocks = []\n",
    "    \n",
    "    # Upper left block\n",
    "    blocks.append(matrix[:block_size, :block_size])\n",
    "    \n",
    "    # Upper right block\n",
    "    blocks.append(matrix[:block_size, block_size:])\n",
    "    \n",
    "    # Lower left block\n",
    "    blocks.append(matrix[block_size:, :block_size])\n",
    "    \n",
    "    # Lower right block\n",
    "    blocks.append(matrix[block_size:, block_size:])\n",
    "    \n",
    "    return blocks\n"
   ]
  },
  {
   "cell_type": "code",
   "execution_count": null,
   "id": "e2ec46f4",
   "metadata": {},
   "outputs": [],
   "source": []
  },
  {
   "cell_type": "code",
   "execution_count": 192,
   "id": "7965a8d2",
   "metadata": {},
   "outputs": [],
   "source": [
    "# def shakeornot(frames):\n",
    "    \n",
    "# #     for i in range(0, len(frames)-1):\n",
    "#     keypoints_1 = None\n",
    "#     keypoints_2 = None\n",
    "#     descriptors_1 = None\n",
    "#     descriptors_2 = None\n",
    "#     pts1 = []\n",
    "#     pts2 = []\n",
    "    \n",
    "#     img1 = frames[0]\n",
    "#     img2 = frames[1]\n",
    "\n",
    "#     #sift\n",
    "#     sift = cv2.xfeatures2d.SIFT_create()\n",
    "\n",
    "#     keypoints_1, descriptors_1 = sift.detectAndCompute(img1,None)\n",
    "#     keypoints_2, descriptors_2 = sift.detectAndCompute(img2,None)\n",
    "\n",
    "#     #(x,y) coordinates\n",
    "    \n",
    "# #     print(keypoints_1[0].pt)\n",
    "    \n",
    "#     pts1 = [kp1.pt for kp1 in keypoints_1]\n",
    "#     pts2 = [kp2.pt for kp2 in keypoints_2]\n",
    "    \n",
    "# #     print(len(pts1))\n",
    "# #     print()\n",
    "# #     print(len(pts2))\n",
    "\n",
    "#     #feature matching\n",
    "#     bf = cv2.BFMatcher(cv2.NORM_L2, crossCheck=True)\n",
    "\n",
    "#     matches = bf.match(descriptors_2, descriptors_1)\n",
    "#     print(len(matches))\n",
    "#     matches = sorted(matches, key = lambda x:x.distance)\n",
    "\n",
    "#     img3 = cv2.drawMatches(img1, keypoints_1, img2, keypoints_2, bmatches[:50], img2, flags=2)\n",
    "#     plt.imshow(img3),plt.show()\n",
    "\n",
    "#     return matches\n",
    "   "
   ]
  },
  {
   "cell_type": "code",
   "execution_count": null,
   "id": "d250c3a3",
   "metadata": {},
   "outputs": [],
   "source": []
  },
  {
   "cell_type": "code",
   "execution_count": 64,
   "id": "cc4d791d",
   "metadata": {},
   "outputs": [
    {
     "name": "stdout",
     "output_type": "stream",
     "text": [
      "['surveillance_shake (1).mp4', 'surveillance_shake (2).mp4', 'surveillance_shake (3).mp4', 'surveillance_shake (4).mp4']\n",
      "(512, 512)\n"
     ]
    }
   ],
   "source": [
    "shake_folder = r\"D:\\data\\final_data\\shake\"\n",
    "\n",
    "bfiles = os.listdir(shake_folder)\n",
    "\n",
    "print(bfiles)\n",
    "\n",
    "bframes = video2frames(os.path.join(shake_folder, bfiles[3]))\n",
    "\n",
    "print(bframes[0].shape)\n",
    "\n",
    "# bfilename = \"surveillance_shake (4).mp4\""
   ]
  },
  {
   "cell_type": "code",
   "execution_count": null,
   "id": "a48b22a8",
   "metadata": {},
   "outputs": [],
   "source": []
  },
  {
   "cell_type": "code",
   "execution_count": null,
   "id": "b678f072",
   "metadata": {},
   "outputs": [],
   "source": []
  },
  {
   "cell_type": "code",
   "execution_count": 28,
   "id": "a3bb2855",
   "metadata": {},
   "outputs": [],
   "source": [
    "# # print(os.path.join(shake_folder, bfilename))\n",
    "\n",
    "# for bfilename in bfiles:\n",
    "#     bframes = video2frames(os.path.join(shake_folder, bfilename))\n",
    "#     bmatches = shakeornot(bframes)\n",
    "#     # print\n",
    "\n",
    "#     d = [e.distance for e in bmatches]\n",
    "#     print(d)\n",
    "#     print(len(d))\n",
    "#     print()\n",
    "\n",
    "# # print(frames)"
   ]
  },
  {
   "cell_type": "code",
   "execution_count": 12,
   "id": "fee25498",
   "metadata": {
    "scrolled": true
   },
   "outputs": [],
   "source": [
    "# bmatches = shakeornot(bframes)\n",
    "# # print\n",
    "\n",
    "# d = [e.distance for e in bmatches]\n",
    "# print(d)\n",
    "# print(len(d))"
   ]
  },
  {
   "cell_type": "code",
   "execution_count": null,
   "id": "eed3c7b7",
   "metadata": {},
   "outputs": [],
   "source": []
  },
  {
   "cell_type": "code",
   "execution_count": null,
   "id": "4498cfad",
   "metadata": {},
   "outputs": [],
   "source": []
  },
  {
   "cell_type": "code",
   "execution_count": 124,
   "id": "5d089ac4",
   "metadata": {},
   "outputs": [
    {
     "name": "stdout",
     "output_type": "stream",
     "text": [
      "['fuq6.mp4', 'good1.mp4', 'good3.mp4', 'Highway1.mp4', 'yqmu.mp4', 'Bus_Stop.mp4']\n",
      "(512, 512)\n"
     ]
    }
   ],
   "source": [
    "good_folder = r\"D:\\data\\final_data\\good\"\n",
    "gfiles = os.listdir(good_folder)\n",
    "\n",
    "print(gfiles)\n",
    "\n",
    "gframes = video2frames(os.path.join(good_folder, gfiles[1]))\n",
    "\n",
    "print(gframes[0].shape)"
   ]
  },
  {
   "cell_type": "code",
   "execution_count": 84,
   "id": "7650312a",
   "metadata": {},
   "outputs": [
    {
     "name": "stdout",
     "output_type": "stream",
     "text": [
      "D:\\data\\final_data\\good\\Bus_Stop.mp4\n"
     ]
    }
   ],
   "source": [
    "# print(os.path.join(good_folder, gfilename))\n",
    "# gframes = video2frames(os.path.join(good_folder, gfilename))\n",
    "\n",
    "# print(frames)"
   ]
  },
  {
   "cell_type": "code",
   "execution_count": 13,
   "id": "c999317d",
   "metadata": {},
   "outputs": [],
   "source": [
    "# # print(os.path.join(shake_folder, bfilename))\n",
    "\n",
    "# for gfilename in gfiles:\n",
    "#     gframes = video2frames(os.path.join(good_folder, gfilename))\n",
    "    \n",
    "#     print(os.path.join(good_folder, gfilename))\n",
    "#     gmatches = shakeornot(gframes)\n",
    "#     # print\n",
    "\n",
    "#     d = [e.distance for e in gmatches]\n",
    "#     print(d)\n",
    "#     print(len(d))\n",
    "#     print()\n",
    "\n",
    "# # print(frames)"
   ]
  },
  {
   "cell_type": "code",
   "execution_count": null,
   "id": "637d4465",
   "metadata": {},
   "outputs": [],
   "source": []
  },
  {
   "cell_type": "code",
   "execution_count": 4,
   "id": "e971ce92",
   "metadata": {},
   "outputs": [],
   "source": [
    "def get_keypoints_and_descriptors(img):\n",
    "    \n",
    "    sift = cv2.xfeatures2d.SIFT_create()\n",
    "    keypoints, descriptors = sift.detectAndCompute(img,None)\n",
    "    \n",
    "    return (keypoints, descriptors)"
   ]
  },
  {
   "cell_type": "code",
   "execution_count": null,
   "id": "c416df53",
   "metadata": {},
   "outputs": [],
   "source": []
  },
  {
   "cell_type": "code",
   "execution_count": 5,
   "id": "1fdbbe70",
   "metadata": {},
   "outputs": [],
   "source": [
    "def get_matches(descriptors_1, descriptors_2):\n",
    "#     # BFMatcher with default params\n",
    "#     bf = cv.BFMatcher()\n",
    "#     matches = bf.knnMatch(des1,des2,k=2)\n",
    "    \n",
    "    matches = None\n",
    "    bf = cv2.BFMatcher()\n",
    "    matches = bf.knnMatch(descriptors_1, descriptors_2, k=2)\n",
    "#     print(len(matches))\n",
    "    # Apply ratio test\n",
    "    good = None\n",
    "    if matches is not None and len(matches[0]) > 1:\n",
    "        good = []\n",
    "        for m,n in matches:\n",
    "            if m.distance < 0.75*n.distance:\n",
    "                good.append(m)\n",
    "        gmatches = sorted(good, key = lambda x:x.distance)\n",
    "#     print('------',good[0].distance)\n",
    "    \n",
    "    return good"
   ]
  },
  {
   "cell_type": "code",
   "execution_count": null,
   "id": "2c3106cc",
   "metadata": {},
   "outputs": [],
   "source": []
  },
  {
   "cell_type": "code",
   "execution_count": 6,
   "id": "a49fc226",
   "metadata": {},
   "outputs": [],
   "source": [
    "from statistics import mean\n",
    "import random \n",
    "\n",
    "def get_reference_point(curr_frame, next_frame):\n",
    "    \n",
    "    curr_frame_blocks = get_corner_blocks(curr_frame)\n",
    "    next_frame_blocks = get_corner_blocks(next_frame)\n",
    "\n",
    "    cfd = []\n",
    "    reference_points = []\n",
    "    for corner1, corner2 in zip(curr_frame_blocks, next_frame_blocks):\n",
    "        matches = None\n",
    "        curr_keypoints = None\n",
    "        next_keypoints = None\n",
    "        curr_descriptors = None\n",
    "        next_descriptors = None\n",
    "        curr_keypoints, curr_descriptors = get_keypoints_and_descriptors(corner1)\n",
    "        next_keypoints, next_descriptors = get_keypoints_and_descriptors(corner2)\n",
    "#         print(curr_keypoints, next_descriptors)\n",
    "#         print('-----------------')\n",
    "#         if curr_keypoints is not None and next_keypoints is not None:\n",
    "        if curr_descriptors is not None and next_descriptors is not None:\n",
    "            if curr_keypoints is not None and next_keypoints is not None:\n",
    "#                 print('kp and desc are there in corner')\n",
    "                matches = get_matches(curr_descriptors, next_descriptors)\n",
    "#         print('kp not there.')\n",
    "                if matches is not None and len(matches) >= 1:\n",
    "                    if len(matches) == 1:\n",
    "#                         print('single match')\n",
    "                        match = matches[0]\n",
    "                    if len(matches) > 1:\n",
    "#                         print('multiple matches')\n",
    "                        seed_constant = 27\n",
    "                        random.seed(seed_constant)\n",
    "                        match = random.choice(matches)\n",
    "                    p1 = curr_keypoints[match.queryIdx].pt\n",
    "                    p2 = next_keypoints[match.trainIdx].pt\n",
    "                    p1 = (round(p1[0]), round(p1[1]))\n",
    "                    p2 = (round(p2[0]), round(p2[1]))\n",
    "                    reference_points.append((p1, p2))\n",
    "                else:\n",
    "                    p1 = (-1, -1)\n",
    "                    p2 = (-1, -1)\n",
    "                    reference_points.append((p1, p2))\n",
    "#                     print('no matches')\n",
    "                    pass\n",
    "            else:\n",
    "#                 print('no kps')\n",
    "                pass\n",
    "        else:\n",
    "#             print('no desc')\n",
    "            pass\n",
    "    return reference_points\n"
   ]
  },
  {
   "cell_type": "code",
   "execution_count": null,
   "id": "a000856f",
   "metadata": {},
   "outputs": [],
   "source": []
  },
  {
   "cell_type": "code",
   "execution_count": 96,
   "id": "2393422d",
   "metadata": {},
   "outputs": [],
   "source": [
    "def get_direction(points_list):\n",
    "    if len(points_list) == 4:\n",
    "        first_corner = points_list[0]\n",
    "        sec_corner = points_list[1]\n",
    "        third_corner = points_list[2]\n",
    "        fourth_corner = points_list[3]\n",
    "        \n",
    "        if first_corner[0][0] == first_corner[1][0] and sec_corner[0][0] == sec_corner[1][0] and third_corner[0][0] == third_corner[1][0] and fourth_corner[0][0] == fourth_corner[1][0]:\n",
    "            return 'no_shake'\n",
    "        elif first_corner[0][1] < first_corner[1][1] and sec_corner[0][1] == sec_corner[1][1] and third_corner[0][1] == third_corner[1][1] and fourth_corner[0][1] == fourth_corner[1][1]:\n",
    "            return 'no_shake'      \n",
    "        elif first_corner[0][0] < first_corner[1][0] and sec_corner[0][0] < sec_corner[1][0] and third_corner[0][0] < third_corner[1][0] and fourth_corner[0][0] < fourth_corner[1][0]:\n",
    "            return 'left'\n",
    "        elif first_corner[0][0] > first_corner[1][0] and sec_corner[0][0] > sec_corner[1][0] and third_corner[0][0] > third_corner[1][0] and fourth_corner[0][0] > fourth_corner[1][0]:\n",
    "            return 'right'\n",
    "        elif first_corner[0][1] < first_corner[1][1] and sec_corner[0][1] < sec_corner[1][1] and third_corner[0][1] < third_corner[1][1] and fourth_corner[0][1] < fourth_corner[1][1]:\n",
    "            return 'up'\n",
    "        elif first_corner[0][1] > first_corner[1][1] and sec_corner[0][1] > sec_corner[1][1] and third_corner[0][1] > third_corner[1][1] and fourth_corner[0][1] > fourth_corner[1][1]:\n",
    "            return 'down'\n",
    "        else:\n",
    "            return 'shake'\n",
    "    else:\n",
    "#         print('no enough pts.')\n",
    "        return 'shake'\n",
    "    "
   ]
  },
  {
   "cell_type": "code",
   "execution_count": null,
   "id": "5fab971b",
   "metadata": {},
   "outputs": [],
   "source": []
  },
  {
   "cell_type": "code",
   "execution_count": 120,
   "id": "32865370",
   "metadata": {
    "collapsed": true
   },
   "outputs": [
    {
     "name": "stdout",
     "output_type": "stream",
     "text": [
      "1 th frame is shaky.\n",
      "2 th frame is shaky.\n",
      "3 th frame is shaky.\n",
      "4 th frame is shaky.\n",
      "5 th frame is shaky.\n",
      "6 th frame is shaky.\n",
      "7 th frame is shaky.\n",
      "8 th frame is shaky.\n",
      "9 th frame is shaky.\n",
      "10 th frame is shaky.\n",
      "11 th frame is shaky.\n",
      "12 th frame is shaky.\n",
      "13 th frame is shaky.\n",
      "14 th frame is shaky.\n",
      "15 th frame is shaky.\n",
      "16 th frame is shaky.\n",
      "17 th frame is shaky.\n",
      "18 th frame is shaky.\n",
      "19 th frame is shaky.\n",
      "20 th frame is shaky.\n",
      "21 th frame is shaky.\n",
      "22 th frame is shaky.\n",
      "23 th frame is shaky.\n",
      "24 th frame is shaky.\n",
      "25 th frame is shaky.\n",
      "26 th frame is shaky.\n",
      "27 th frame is shaky.\n",
      "28 th frame is shaky.\n",
      "29 th frame is shaky.\n",
      "30 th frame is shaky.\n",
      "31 th frame is shaky.\n",
      "32 th frame is shaky.\n",
      "33 th frame is shaky.\n",
      "34 th frame is shaky.\n",
      "35 th frame is shaky.\n",
      "36 th frame is shaky.\n",
      "37 th frame is shaky.\n",
      "38 th frame is shaky.\n",
      "39 th frame is shaky.\n",
      "40 th frame is shaky.\n",
      "41 th frame is shaky.\n",
      "42 th frame is shaky.\n",
      "43 th frame is shaky.\n",
      "44 th frame is shaky.\n",
      "45 th frame is shaky.\n",
      "46 th frame is shaky.\n",
      "47 th frame is shaky.\n",
      "48 th frame is shaky.\n",
      "49 th frame is shaky.\n",
      "50 th frame is shaky.\n",
      "51 th frame is shaky.\n",
      "52 th frame is shaky.\n",
      "53 th frame is shaky.\n",
      "54 th frame is shaky.\n",
      "55 th frame is shaky.\n",
      "56 th frame is shaky.\n",
      "57 th frame is shaky.\n",
      "58 th frame is shaky.\n",
      "59 th frame is shaky.\n",
      "60 th frame is shaky.\n",
      "61 th frame is shaky.\n",
      "62 th frame is shaky.\n",
      "63 th frame is shaky.\n",
      "64 th frame is shaky.\n",
      "65 th frame is shaky.\n",
      "66 th frame is shaky.\n",
      "67 th frame is shaky.\n",
      "68 th frame is shaky.\n",
      "69 th frame is shaky.\n",
      "70 th frame is shaky.\n",
      "71 th frame is shaky.\n",
      "72 th frame is shaky.\n",
      "73 th frame is shaky.\n",
      "74 th frame is shaky.\n",
      "75 th frame is shaky.\n",
      "76 th frame is shaky.\n",
      "77 th frame is shaky.\n",
      "78 th frame is shaky.\n",
      "79 th frame is shaky.\n",
      "80 th frame is shaky.\n",
      "81 th frame is shaky.\n",
      "82 th frame is shaky.\n",
      "83 th frame is shaky.\n",
      "84 th frame is shaky.\n",
      "85 th frame is shaky.\n",
      "86 th frame is shaky.\n",
      "87 th frame is shaky.\n",
      "88 th frame is shaky.\n",
      "89 th frame is shaky.\n",
      "90 th frame is shaky.\n",
      "91 th frame is shaky.\n",
      "92 th frame is shaky.\n",
      "93 th frame is shaky.\n",
      "94 th frame is shaky.\n",
      "95 th frame is shaky.\n",
      "96 th frame is shaky.\n",
      "97 th frame is shaky.\n",
      "98 th frame is shaky.\n",
      "99 th frame is shaky.\n",
      "100 th frame is shaky.\n",
      "101 th frame is shaky.\n",
      "102 th frame is shaky.\n",
      "103 th frame is shaky.\n",
      "104 th frame is shaky.\n",
      "105 th frame is shaky.\n",
      "106 th frame is shaky.\n",
      "107 th frame is shaky.\n",
      "108 th frame is shaky.\n",
      "109 th frame is shaky.\n",
      "110 th frame is shaky.\n",
      "111 th frame is shaky.\n",
      "112 th frame is shaky.\n",
      "113 th frame is shaky.\n",
      "114 th frame is shaky.\n",
      "115 th frame is shaky.\n",
      "116 th frame is shaky.\n",
      "117 th frame is shaky.\n",
      "118 th frame is shaky.\n",
      "119 th frame is shaky.\n",
      "120 th frame is shaky.\n",
      "121 th frame is shaky.\n",
      "122 th frame is shaky.\n",
      "123 th frame is shaky.\n",
      "124 th frame is shaky.\n",
      "125 th frame is shaky.\n",
      "126 th frame is shaky.\n",
      "127 th frame is shaky.\n",
      "128 th frame is shaky.\n",
      "129 th frame is shaky.\n",
      "130 th frame is shaky.\n",
      "131 th frame is shaky.\n",
      "132 th frame is shaky.\n",
      "133 th frame is shaky.\n",
      "134 th frame is shaky.\n",
      "135 th frame is shaky.\n",
      "136 th frame is shaky.\n",
      "137 th frame is shaky.\n",
      "138 th frame is shaky.\n",
      "139 th frame is shaky.\n",
      "140 th frame is shaky.\n",
      "141 th frame is shaky.\n",
      "142 th frame is shaky.\n",
      "143 th frame is shaky.\n",
      "144 th frame is shaky.\n",
      "145 th frame is shaky.\n",
      "146 th frame is shaky.\n",
      "147 th frame is shaky.\n",
      "148 th frame is shaky.\n",
      "149 th frame is shaky.\n",
      "150 th frame is shaky.\n",
      "151 th frame is shaky.\n",
      "152 th frame is shaky.\n",
      "153 th frame is shaky.\n",
      "154 th frame is shaky.\n",
      "155 th frame is shaky.\n",
      "156 th frame is shaky.\n",
      "157 th frame is shaky.\n",
      "158 th frame is shaky.\n",
      "159 th frame is shaky.\n",
      "160 th frame is shaky.\n",
      "161 th frame is shaky.\n",
      "162 th frame is shaky.\n",
      "163 th frame is shaky.\n",
      "164 th frame is shaky.\n",
      "165 th frame is shaky.\n",
      "166 th frame is shaky.\n",
      "167 th frame is shaky.\n",
      "168 th frame is shaky.\n",
      "169 th frame is shaky.\n",
      "170 th frame is shaky.\n",
      "171 th frame is shaky.\n",
      "172 th frame is shaky.\n",
      "173 th frame is shaky.\n",
      "174 th frame is shaky.\n",
      "175 th frame is shaky.\n",
      "176 th frame is shaky.\n",
      "177 th frame is shaky.\n",
      "178 th frame is shaky.\n",
      "179 th frame is shaky.\n",
      "180 th frame is shaky.\n",
      "181 th frame is shaky.\n",
      "182 th frame is shaky.\n",
      "183 th frame is shaky.\n",
      "184 th frame is shaky.\n",
      "185 th frame is shaky.\n",
      "186 th frame is shaky.\n",
      "187 th frame is shaky.\n",
      "188 th frame is shaky.\n",
      "189 th frame is shaky.\n",
      "190 th frame is shaky.\n",
      "191 th frame is shaky.\n",
      "192 th frame is shaky.\n",
      "193 th frame is shaky.\n",
      "194 th frame is shaky.\n",
      "195 th frame is shaky.\n",
      "196 th frame is shaky.\n",
      "197 th frame is shaky.\n",
      "198 th frame is shaky.\n",
      "199 th frame is shaky.\n",
      "200 th frame is shaky.\n",
      "201 th frame is shaky.\n",
      "202 th frame is shaky.\n",
      "203 th frame is shaky.\n",
      "204 th frame is shaky.\n",
      "205 th frame is shaky.\n",
      "206 th frame is shaky.\n",
      "207 th frame is shaky.\n",
      "208 th frame is shaky.\n",
      "209 th frame is shaky.\n",
      "210 th frame is shaky.\n",
      "211 th frame is shaky.\n",
      "212 th frame is shaky.\n",
      "213 th frame is shaky.\n",
      "214 th frame is shaky.\n",
      "215 th frame is shaky.\n",
      "216 th frame is shaky.\n",
      "217 th frame is shaky.\n",
      "218 th frame is shaky.\n",
      "219 th frame is shaky.\n",
      "220 th frame is shaky.\n",
      "221 th frame is shaky.\n",
      "222 th frame is shaky.\n",
      "223 th frame is shaky.\n",
      "224 th frame is shaky.\n",
      "225 th frame is shaky.\n",
      "226 th frame is shaky.\n",
      "227 th frame is shaky.\n",
      "228 th frame is shaky.\n",
      "229 th frame is shaky.\n",
      "230 th frame is shaky.\n",
      "231 th frame is shaky.\n",
      "232 th frame is shaky.\n",
      "233 th frame is shaky.\n",
      "234 th frame is shaky.\n",
      "235 th frame is shaky.\n",
      "236 th frame is shaky.\n",
      "237 th frame is shaky.\n",
      "238 th frame is shaky.\n",
      "239 th frame is shaky.\n",
      "240 th frame is shaky.\n",
      "241 th frame is shaky.\n",
      "242 th frame is shaky.\n",
      "243 th frame is shaky.\n",
      "244 th frame is shaky.\n",
      "245 th frame is shaky.\n",
      "246 th frame is shaky.\n",
      "247 th frame is shaky.\n",
      "248 th frame is shaky.\n",
      "249 th frame is shaky.\n",
      "250 th frame is shaky.\n",
      "251 th frame is shaky.\n",
      "252 th frame is shaky.\n",
      "253 th frame is shaky.\n",
      "254 th frame is shaky.\n",
      "255 th frame is shaky.\n",
      "256 th frame is shaky.\n",
      "257 th frame is shaky.\n",
      "258 th frame is shaky.\n",
      "259 th frame is shaky.\n",
      "260 th frame is shaky.\n",
      "261 th frame is shaky.\n",
      "262 th frame is shaky.\n",
      "263 th frame is shaky.\n",
      "264 th frame is shaky.\n",
      "265 th frame is shaky.\n",
      "266 th frame is shaky.\n",
      "267 th frame is shaky.\n",
      "268 th frame is shaky.\n",
      "269 th frame is shaky.\n",
      "270 th frame is shaky.\n",
      "271 th frame is shaky.\n",
      "272 th frame is shaky.\n",
      "273 th frame is shaky.\n",
      "274 th frame is shaky.\n",
      "275 th frame is shaky.\n",
      "276 th frame is shaky.\n",
      "277 th frame is shaky.\n",
      "278 th frame is shaky.\n",
      "279 th frame is shaky.\n",
      "280 th frame is shaky.\n",
      "281 th frame is shaky.\n",
      "282 th frame is shaky.\n",
      "283 th frame is shaky.\n",
      "284 th frame is shaky.\n",
      "285 th frame is shaky.\n",
      "286 th frame is shaky.\n",
      "287 th frame is shaky.\n",
      "288 th frame is shaky.\n",
      "289 th frame is shaky.\n",
      "290 th frame is shaky.\n",
      "291 th frame is shaky.\n",
      "292 th frame is shaky.\n",
      "293 th frame is shaky.\n",
      "294 th frame is shaky.\n",
      "295 th frame is shaky.\n",
      "296 th frame is shaky.\n",
      "297 th frame is shaky.\n",
      "298 th frame is shaky.\n",
      "299 th frame is shaky.\n",
      "300 th frame is shaky.\n"
     ]
    }
   ],
   "source": [
    "camera_shake(bframes)"
   ]
  },
  {
   "cell_type": "code",
   "execution_count": 125,
   "id": "5038bd8d",
   "metadata": {},
   "outputs": [
    {
     "name": "stdout",
     "output_type": "stream",
     "text": [
      "107 th frame is shaky.\n",
      "172 th frame is shaky.\n"
     ]
    }
   ],
   "source": [
    "camera_shake(gframes)"
   ]
  },
  {
   "cell_type": "code",
   "execution_count": null,
   "id": "333cceb6",
   "metadata": {},
   "outputs": [],
   "source": []
  },
  {
   "cell_type": "code",
   "execution_count": 101,
   "id": "8497205a",
   "metadata": {},
   "outputs": [
    {
     "name": "stdout",
     "output_type": "stream",
     "text": [
      "301\n"
     ]
    }
   ],
   "source": [
    "vid_path = r\"D:\\data\\final_data\\shake\\shaky3.mp4\"\n",
    "# vid_path = r\"D:\\data\\final_data\\shake\\surveillance_shake (3).mp4\"\n",
    "tframes = video2frames(vid_path)\n",
    "\n",
    "print(len(tframes))\n",
    "# ps = get_reference_point(tframes[10], tframes[11])\n",
    "# print(ps)\n",
    "# print(get_direction(ps))\n",
    "# print()\n",
    "# ps1 = get_reference_point(tframes[8], tframes[9])\n",
    "# print(ps1)\n",
    "# print(get_direction(ps1))\n"
   ]
  },
  {
   "cell_type": "code",
   "execution_count": null,
   "id": "da1d47d2",
   "metadata": {},
   "outputs": [],
   "source": []
  },
  {
   "cell_type": "code",
   "execution_count": null,
   "id": "e62192ca",
   "metadata": {},
   "outputs": [],
   "source": []
  },
  {
   "cell_type": "code",
   "execution_count": 102,
   "id": "e07c06da",
   "metadata": {
    "scrolled": false
   },
   "outputs": [
    {
     "name": "stdout",
     "output_type": "stream",
     "text": [
      "{'shake': 267, 'no_shake': 34}\n"
     ]
    }
   ],
   "source": [
    "ps = None\n",
    "ps1 = None\n",
    "r1 = None\n",
    "r2 = None\n",
    "\n",
    "freq = {'shake': 4, 'no_shake': 0}\n",
    "directions = []\n",
    "for i in range(0, len(tframes)-4):\n",
    "#     print(i)\n",
    "    ps = get_reference_point(tframes[i], tframes[i+1])\n",
    "    ps1 = get_reference_point(tframes[i+2], tframes[i+3])\n",
    "#     print(ps, ps1)\n",
    "#     print('-----------------------')\n",
    "    r1 = get_direction(ps)\n",
    "    r2 = get_direction(ps1)\n",
    "    if (r1 == r2) and (r1 != 'shake' or r2 != 'shake'):\n",
    "        freq['no_shake'] += 1\n",
    "    elif r1 == 'no_shake' or r2 == 'no_shake':\n",
    "        freq['no_shake'] += 1\n",
    "    else:\n",
    "        freq['shake'] += 1\n",
    "        \n",
    "\n",
    "print(freq)"
   ]
  },
  {
   "cell_type": "code",
   "execution_count": null,
   "id": "8517ea96",
   "metadata": {},
   "outputs": [],
   "source": []
  },
  {
   "cell_type": "code",
   "execution_count": null,
   "id": "a06cd9df",
   "metadata": {},
   "outputs": [],
   "source": []
  },
  {
   "cell_type": "markdown",
   "id": "9ebfcc6b",
   "metadata": {},
   "source": [
    "\"D:\\data\\final_data\\shake\\shaky1.mp4\" - {'shake': 150, 'no_shake': 150} - 300 frames - video 8 - 1920x1080 - 10sec\n",
    "\n",
    "\"D:\\data\\final_data\\shake\\shaky2.mp4\" - {'shake': 211, 'no_shake': 90} - 301 - video 4 - 1920x1080 - 10sec\n",
    "\n",
    "\"D:\\data\\final_data\\shake\\shaky3.mp4\" - {'shake': 288, 'no_shake': 13} - 301 - video 5 - 1920x1080 - 10sec\n",
    "\n",
    "\"D:\\data\\final_data\\shake\\shaky4.mp4\" - {'shake': 278, 'no_shake': 22} - 300 - video 6 - 1920x1080 - 10sec\n",
    "\n",
    "\"D:\\data\\final_data\\shake\\skulls-on-fence.mp4\" - {'shake': 178, 'no_shake': 32} - 210 - video 1 - 1920x1080 - 7sec\n",
    "\n",
    "\"D:\\data\\final_data\\shake\\surveillance_shake (2).mp4\" - {'shake': 275, 'no_shake': 25} - 300 - video 2 - 1920x1080 - 10sec\n",
    "\n",
    "\"D:\\data\\final_data\\shake\\surveillance_shake (3).mp4\" - {'shake': 184, 'no_shake': 111} - 295 - video 7 - 1280x720 - 10sec\n",
    "\n",
    "\"D:\\data\\final_data\\shake\\surveillance_shake (4).mp4\" - {'shake': 198, 'no_shake': 103} - 301 - video 3 - 1280x720 - 10sec"
   ]
  },
  {
   "cell_type": "code",
   "execution_count": null,
   "id": "66f286a6",
   "metadata": {},
   "outputs": [],
   "source": []
  },
  {
   "cell_type": "code",
   "execution_count": 186,
   "id": "dea535e3",
   "metadata": {},
   "outputs": [
    {
     "name": "stdout",
     "output_type": "stream",
     "text": [
      "                      videos  accuracy\n",
      "0                 video1       0.84700\n",
      "1                 video2       0.91600\n",
      "2                 video3       0.65700\n",
      "3                 video4       0.70000\n",
      "4                 video5       0.95600\n",
      "5                 video6       0.92600\n",
      "6                 video7       0.62300\n",
      "7                 video8       0.50000\n",
      "8      average\\naccuracy       0.79826\n"
     ]
    },
    {
     "data": {
      "text/plain": [
       "[Text(0.5, 0, '')]"
      ]
     },
     "execution_count": 186,
     "metadata": {},
     "output_type": "execute_result"
    },
    {
     "data": {
      "image/png": "[encoded data removed]",
      "text/plain": [
       "<Figure size 640x480 with 1 Axes>"
      ]
     },
     "metadata": {},
     "output_type": "display_data"
    }
   ],
   "source": [
    "import seaborn as sns\n",
    "import pandas as pd\n",
    "\n",
    "# 1, 3, 4, 6, 8\n",
    "\n",
    "videos = [1,2,3,4,5,6,7,8]\n",
    "accuracy = [0.847, 0.916, 0.657, 0.700, 0.956, 0.926, 0.623, 0.5]\n",
    "\n",
    "data = [['    video1    ', 0.847], ['    video2    ', 0.916], ['    video3    ', 0.657], ['    video4    ', 0.700], \n",
    "        ['    video5    ', 0.956], ['    video6    ', 0.926], ['    video7    ', 0.623], ['    video8    ', 0.500], ['    average\\naccuracy    ', 0.79826]]\n",
    "  \n",
    "# Create the pandas DataFrame\n",
    "df = pd.DataFrame(data, columns=['videos', 'accuracy'])\n",
    "\n",
    "print(df)\n",
    "\n",
    "ax = sns.barplot(data = df, x = 'videos', y = 'accuracy', width = 0.4, color='steelblue')\n",
    "ax.set(xlabel=None)"
   ]
  },
  {
   "cell_type": "code",
   "execution_count": null,
   "id": "386577b8",
   "metadata": {},
   "outputs": [],
   "source": []
  },
  {
   "cell_type": "code",
   "execution_count": 164,
   "id": "b3310417",
   "metadata": {},
   "outputs": [
    {
     "name": "stdout",
     "output_type": "stream",
     "text": [
      "    videos  accuracy                          methods\n",
      "0   video1     0.847            corners SIFT matching\n",
      "1   video2     0.916            corners SIFT matching\n",
      "2   video3     0.657            corners SIFT matching\n",
      "3   video4     0.700            corners SIFT matching\n",
      "4   video5     0.956            corners SIFT matching\n",
      "5   video6     0.926            corners SIFT matching\n",
      "6   video7     0.623            corners SIFT matching\n",
      "7   video8     0.500            corners SIFT matching\n",
      "8   video1     0.642  classification-based homography\n",
      "9   video2     0.497  classification-based homography\n",
      "10  video3     0.432  classification-based homography\n",
      "11  video4     0.586  classification-based homography\n",
      "12  video5     0.319  classification-based homography\n",
      "13  video6     0.618  classification-based homography\n",
      "14  video7     0.297  classification-based homography\n",
      "15  video8     0.526  classification-based homography\n",
      "16  video1     0.768                    write-a-video\n",
      "17  video2     0.535                    write-a-video\n",
      "18  video3     0.826                    write-a-video\n",
      "19  video4     0.602                    write-a-video\n",
      "20  video5     0.597                    write-a-video\n",
      "21  video6     0.952                    write-a-video\n",
      "22  video7     0.514                    write-a-video\n",
      "23  video8     0.799                    write-a-video\n"
     ]
    },
    {
     "data": {
      "text/plain": [
       "[Text(0.5, 0, '')]"
      ]
     },
     "execution_count": 164,
     "metadata": {},
     "output_type": "execute_result"
    },
    {
     "data": {
      "image/png": "[encoded data removed]",
      "text/plain": [
       "<Figure size 640x480 with 1 Axes>"
      ]
     },
     "metadata": {},
     "output_type": "display_data"
    }
   ],
   "source": [
    "# 1, 3, 4, 6, 8\n",
    "\n",
    "data = [['video1', 0.847, 'corners SIFT matching'], ['video2', 0.916, 'corners SIFT matching'], ['video3', 0.657, 'corners SIFT matching'], ['video4', 0.700, 'corners SIFT matching'], \n",
    "        ['video5', 0.956, 'corners SIFT matching'], ['video6', 0.926, 'corners SIFT matching'], ['video7', 0.623, 'corners SIFT matching'], ['video8', 0.500, 'corners SIFT matching'],\n",
    "       ['video1', 0.642, 'classification-based homography'], ['video2', 0.497, 'classification-based homography'], ['video3', 0.432, 'classification-based homography'], ['video4', 0.586, 'classification-based homography'], \n",
    "        ['video5', 0.319, 'classification-based homography'], ['video6', 0.618, 'classification-based homography'], ['video7', 0.297, 'classification-based homography'], ['video8', 0.526, 'classification-based homography'],\n",
    "       ['video1', 0.768, 'write-a-video'], ['video2', 0.535, 'write-a-video'], ['video3', 0.826, 'write-a-video'], ['video4', 0.602, 'write-a-video'], \n",
    "        ['video5', 0.597, 'write-a-video'], ['video6', 0.952, 'write-a-video'], ['video7', 0.514, 'write-a-video'], ['video8', 0.799, 'write-a-video']]\n",
    "  \n",
    "# Create the pandas DataFrame\n",
    "df = pd.DataFrame(data, columns=['videos', 'accuracy', 'methods'])\n",
    "\n",
    "print(df)\n",
    "\n",
    "\n",
    "ax = sns.barplot(data = df, x = 'videos', y = 'accuracy', hue = 'methods', width = 0.4, palette = 'Blues')\n",
    "ax.set(xlabel=None)\n",
    "# plt.legend(loc='upper right')"
   ]
  },
  {
   "cell_type": "code",
   "execution_count": null,
   "id": "9b37d8be",
   "metadata": {},
   "outputs": [],
   "source": []
  },
  {
   "cell_type": "code",
   "execution_count": null,
   "id": "d6c7bf1c",
   "metadata": {},
   "outputs": [],
   "source": []
  },
  {
   "cell_type": "code",
   "execution_count": 152,
   "id": "0b1a57f7",
   "metadata": {},
   "outputs": [
    {
     "name": "stdout",
     "output_type": "stream",
     "text": [
      "[[0.153196   0.11968437 0.49309962 0.43086374 0.06223587 0.10532225\n",
      "  0.05266112 0.71810624]]\n"
     ]
    }
   ],
   "source": [
    "from sklearn import preprocessing\n",
    "\n",
    "fprs = [np.array([32, 25, 103, 90, 13, 22, 11, 150])]\n",
    "n_fprs = preprocessing.normalize(fprs)\n",
    "\n",
    "# less = min(fprs)\n",
    "# more = max(fprs)\n",
    "\n",
    "# for i in fprs:\n",
    "#     t = round(((abs(i - less)) / (more - less)) * 100)\n",
    "#     n_fprs.append(t)\n",
    "\n",
    "print(n_fprs)"
   ]
  },
  {
   "cell_type": "code",
   "execution_count": 163,
   "id": "5a8564df",
   "metadata": {},
   "outputs": [
    {
     "name": "stdout",
     "output_type": "stream",
     "text": [
      "    videos  false_positive_rate                          methods\n",
      "0   video1             0.153196            corners SIFT matching\n",
      "1   video2             0.119684            corners SIFT matching\n",
      "2   video3             0.493100            corners SIFT matching\n",
      "3   video4             0.430864            corners SIFT matching\n",
      "4   video5             0.062236            corners SIFT matching\n",
      "5   video6             0.105322            corners SIFT matching\n",
      "6   video7             0.052661            corners SIFT matching\n",
      "7   video8             0.618106            corners SIFT matching\n",
      "8   video1             0.412079  classification-based homography\n",
      "9   video2             0.736172  classification-based homography\n",
      "10  video3             0.801126  classification-based homography\n",
      "11  video4             0.678207  classification-based homography\n",
      "12  video5             0.898363  classification-based homography\n",
      "13  video6             0.413291  classification-based homography\n",
      "14  video7             0.913409  classification-based homography\n",
      "15  video8             0.651137  classification-based homography\n",
      "16  video1             0.563194                    write-a-video\n",
      "17  video2             0.671106                    write-a-video\n",
      "18  video3             0.241050                    write-a-video\n",
      "19  video4             0.152489                    write-a-video\n",
      "20  video5             0.591837                    write-a-video\n",
      "21  video6             0.052329                    write-a-video\n",
      "22  video7             0.638107                    write-a-video\n",
      "23  video8             0.203467                    write-a-video\n"
     ]
    },
    {
     "data": {
      "text/plain": [
       "[Text(0.5, 0, '')]"
      ]
     },
     "execution_count": 163,
     "metadata": {},
     "output_type": "execute_result"
    },
    {
     "data": {
      "image/png": "[encoded data removed]",
      "text/plain": [
       "<Figure size 640x480 with 1 Axes>"
      ]
     },
     "metadata": {},
     "output_type": "display_data"
    }
   ],
   "source": [
    "# data = [['video1', 0.153196], ['video2', 0.11968437], ['video3', 0.49309962], ['video4', 0.43086374], \n",
    "#         ['video5', 0.06223587], ['video6', 0.10532225], ['video7', 0.05266112], ['video8', 0.61810624]]\n",
    "\n",
    "# data = [['video1', 0.847], ['video2', 0.916], ['video3', 0.657], ['video4', 0.700], \n",
    "#         ['video5', 0.956], ['video6', 0.926], ['video7', 0.623], ['video8', 0.500]]\n",
    "\n",
    "data = [['video1', 0.153196, 'corners SIFT matching'], ['video2', 0.11968437, 'corners SIFT matching'], ['video3', 0.49309962, 'corners SIFT matching'], ['video4', 0.43086374, 'corners SIFT matching'], \n",
    "        ['video5', 0.06223587, 'corners SIFT matching'], ['video6', 0.10532225, 'corners SIFT matching'], ['video7', 0.05266112, 'corners SIFT matching'], ['video8', 0.61810624, 'corners SIFT matching'],\n",
    "       ['video1', 0.41207863, 'classification-based homography'], ['video2', 0.7361723, 'classification-based homography'], ['video3', 0.80112644, 'classification-based homography'], ['video4', 0.67820694, 'classification-based homography'], \n",
    "        ['video5', 0.8983629, 'classification-based homography'], ['video6', 0.41329069, 'classification-based homography'], ['video7', 0.9134087, 'classification-based homography'], ['video8', 0.65113681, 'classification-based homography'],\n",
    "       ['video1', 0.56319360, 'write-a-video'], ['video2', 0.671105931, 'write-a-video'], ['video3', 0.2410496, 'write-a-video'], ['video4', 0.15248922, 'write-a-video'], \n",
    "        ['video5', 0.59183723, 'write-a-video'], ['video6', 0.05232897, 'write-a-video'], ['video7', 0.6381067118, 'write-a-video'], ['video8', 0.2034672, 'write-a-video']]\n",
    "  \n",
    "  \n",
    "# Create the pandas DataFrame\n",
    "df_fp = pd.DataFrame(data, columns=['videos', 'false_positive_rate', 'methods'])\n",
    "\n",
    "print(df_fp)\n",
    "\n",
    "ax = sns.barplot(data = df_fp, x = 'videos', y = 'false_positive_rate', hue = 'methods', width = 0.4, palette = 'Blues')\n",
    "ax.set(xlabel=None)"
   ]
  },
  {
   "cell_type": "code",
   "execution_count": null,
   "id": "79c26760",
   "metadata": {},
   "outputs": [],
   "source": []
  }
 ],
 "metadata": {
  "kernelspec": {
   "display_name": "Python 3 (ipykernel)",
   "language": "python",
   "name": "python3"
  },
  "language_info": {
   "codemirror_mode": {
    "name": "ipython",
    "version": 3
   },
   "file_extension": ".py",
   "mimetype": "text/x-python",
   "name": "python",
   "nbconvert_exporter": "python",
   "pygments_lexer": "ipython3",
   "version": "3.9.15"
  }
 },
 "nbformat": 4,
 "nbformat_minor": 5
}
